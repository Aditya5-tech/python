{
  "nbformat": 4,
  "nbformat_minor": 0,
  "metadata": {
    "colab": {
      "provenance": [],
      "authorship_tag": "ABX9TyOi5uj/8qbjOUp11rZPjh/S",
      "include_colab_link": true
    },
    "kernelspec": {
      "name": "python3",
      "display_name": "Python 3"
    },
    "language_info": {
      "name": "python"
    }
  },
  "cells": [
    {
      "cell_type": "markdown",
      "metadata": {
        "id": "view-in-github",
        "colab_type": "text"
      },
      "source": [
        "<a href=\"https://colab.research.google.com/github/Aditya5-tech/python/blob/main/Expections.ipynb\" target=\"_parent\"><img src=\"https://colab.research.google.com/assets/colab-badge.svg\" alt=\"Open In Colab\"/></a>"
      ]
    },
    {
      "cell_type": "code",
      "execution_count": 1,
      "metadata": {
        "colab": {
          "base_uri": "https://localhost:8080/"
        },
        "id": "LLkwOCAIAgB_",
        "outputId": "193ab161-3fc2-4151-d5a6-74e0ab5b4f3f"
      },
      "outputs": [
        {
          "output_type": "stream",
          "name": "stdout",
          "text": [
            "Division successful! Result: 5.0\n",
            "Execution of divide_numbers() is complete.\n",
            "5.0\n",
            "Error: Division by zero is not allowed.\n",
            "Execution of divide_numbers() is complete.\n",
            "None\n",
            "Error: Invalid data type. Please enter numbers only.\n",
            "Execution of divide_numbers() is complete.\n",
            "None\n",
            "Caught exception: Negative numbers are not allowed.\n"
          ]
        }
      ],
      "source": [
        "# Example of handling exceptions in Python\n",
        "\n",
        "def divide_numbers(a, b):\n",
        "    try:\n",
        "        result = a / b  # Attempting division\n",
        "    except ZeroDivisionError:\n",
        "        print(\"Error: Division by zero is not allowed.\")\n",
        "        return None  # Return None if division fails\n",
        "    except TypeError:\n",
        "        print(\"Error: Invalid data type. Please enter numbers only.\")\n",
        "        return None  # Return None if incorrect type is used\n",
        "    else:\n",
        "        print(\"Division successful! Result:\", result)\n",
        "        return result  # Return the valid result\n",
        "    finally:\n",
        "        print(\"Execution of divide_numbers() is complete.\")\n",
        "\n",
        "# Testing the function with different cases\n",
        "print(divide_numbers(10, 2))  # Expected output: 5.0\n",
        "print(divide_numbers(10, 0))  # Expected output: Error message for division by zero\n",
        "print(divide_numbers(10, 'a'))  # Expected output: Error message for incorrect type\n",
        "\n",
        "\n",
        "# Custom Exception Class\n",
        "class NegativeNumberError(Exception):\n",
        "    \"\"\"Custom exception for handling negative numbers.\"\"\"\n",
        "    pass\n",
        "\n",
        "def check_positive_number(num):\n",
        "    if num < 0:\n",
        "        raise NegativeNumberError(\"Negative numbers are not allowed.\")\n",
        "    else:\n",
        "        print(\"Valid number:\", num)\n",
        "\n",
        "# Testing custom exception\n",
        "try:\n",
        "    check_positive_number(-5)  # This should raise an exception\n",
        "except NegativeNumberError as e:\n",
        "    print(\"Caught exception:\", e)"
      ]
    }
  ]
}