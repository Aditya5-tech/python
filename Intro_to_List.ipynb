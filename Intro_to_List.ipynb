{
  "nbformat": 4,
  "nbformat_minor": 0,
  "metadata": {
    "colab": {
      "provenance": [],
      "authorship_tag": "ABX9TyNLnyc/aX7LvykQvD5fQ/Do",
      "include_colab_link": true
    },
    "kernelspec": {
      "name": "python3",
      "display_name": "Python 3"
    },
    "language_info": {
      "name": "python"
    }
  },
  "cells": [
    {
      "cell_type": "markdown",
      "metadata": {
        "id": "view-in-github",
        "colab_type": "text"
      },
      "source": [
        "<a href=\"https://colab.research.google.com/github/Aditya5-tech/python/blob/main/Intro_to_List.ipynb\" target=\"_parent\"><img src=\"https://colab.research.google.com/assets/colab-badge.svg\" alt=\"Open In Colab\"/></a>"
      ]
    },
    {
      "cell_type": "code",
      "execution_count": null,
      "metadata": {
        "colab": {
          "base_uri": "https://localhost:8080/"
        },
        "id": "RT1gjw7E_swA",
        "outputId": "2b9cdd53-794a-4838-f19b-bddfaa2ee1f3"
      },
      "outputs": [
        {
          "output_type": "stream",
          "name": "stdout",
          "text": [
            "Fruits List: ['apple', 'banana', 'cherry', 'date']\n",
            "First Fruit: apple\n",
            "Last Fruit: date\n",
            "First two fruits: ['apple', 'banana']\n",
            "Last two fruits: ['cherry', 'date']\n",
            "Modified List: ['apple', 'blueberry', 'cherry', 'date']\n",
            "After Append: ['apple', 'blueberry', 'cherry', 'date', 'elderberry']\n",
            "After Insert: ['apple', 'blueberry', 'fig', 'cherry', 'date', 'elderberry']\n",
            "After Remove: ['apple', 'blueberry', 'fig', 'date', 'elderberry']\n",
            "Popped Fruit: elderberry\n",
            "After Pop: ['apple', 'blueberry', 'fig', 'date']\n",
            "Numbers List: [1, 2, 3, 4, 5]\n",
            "Doubled List: [2, 4, 6, 8, 10]\n",
            "Sorted List: ['apple', 'blueberry', 'date', 'fig']\n",
            "Reverse Sorted List: ['fig', 'date', 'blueberry', 'apple']\n",
            "Is 'apple' in list? True\n",
            "Is 'mango' in list? False\n",
            "Fruit: fig\n",
            "Fruit: date\n",
            "Fruit: blueberry\n",
            "Fruit: apple\n",
            "Length of Fruits List: 4\n",
            "Copied List: ['fig', 'date', 'blueberry', 'apple']\n"
          ]
        }
      ],
      "source": [
        "# Creating a list\n",
        "fruits = ['apple', 'banana', 'cherry', 'date']\n",
        "print(\"Fruits List:\", fruits)\n",
        "\n",
        "# Accessing elements\n",
        "print(\"First Fruit:\", fruits[0])  # Indexing\n",
        "print(\"Last Fruit:\", fruits[-1])  # Negative Indexing\n",
        "\n",
        "# Slicing a list\n",
        "print(\"First two fruits:\", fruits[:2])\n",
        "print(\"Last two fruits:\", fruits[-2:])\n",
        "\n",
        "# Modifying elements\n",
        "fruits[1] = 'blueberry'\n",
        "print(\"Modified List:\", fruits)\n",
        "\n",
        "# Adding elements\n",
        "fruits.append('elderberry')  # Append at the end\n",
        "print(\"After Append:\", fruits)\n",
        "\n",
        "fruits.insert(2, 'fig')  # Insert at a specific position\n",
        "print(\"After Insert:\", fruits)\n",
        "\n",
        "# Removing elements\n",
        "fruits.remove('cherry')  # Remove by value\n",
        "print(\"After Remove:\", fruits)\n",
        "\n",
        "popped_fruit = fruits.pop()  # Remove last element\n",
        "print(\"Popped Fruit:\", popped_fruit)\n",
        "print(\"After Pop:\", fruits)\n",
        "\n",
        "# List comprehension\n",
        "numbers = [x for x in range(1, 6)]  # Creates [1, 2, 3, 4, 5]\n",
        "print(\"Numbers List:\", numbers)\n",
        "\n",
        "doubled = [x * 2 for x in numbers]  # Double each element\n",
        "print(\"Doubled List:\", doubled)\n",
        "\n",
        "# Sorting a list\n",
        "fruits.sort()  # Ascending order\n",
        "print(\"Sorted List:\", fruits)\n",
        "\n",
        "fruits.sort(reverse=True)  # Descending order\n",
        "print(\"Reverse Sorted List:\", fruits)\n",
        "\n",
        "# Checking existence\n",
        "print(\"Is 'apple' in list?\", 'apple' in fruits)\n",
        "print(\"Is 'mango' in list?\", 'mango' in fruits)\n",
        "\n",
        "# Iterating through a list\n",
        "for fruit in fruits:\n",
        "    print(\"Fruit:\", fruit)\n",
        "\n",
        "# List length\n",
        "print(\"Length of Fruits List:\", len(fruits))\n",
        "\n",
        "# Copying a list\n",
        "fruits_copy = fruits.copy()\n",
        "print(\"Copied List:\", fruits_copy)"
      ]
    }
  ]
}