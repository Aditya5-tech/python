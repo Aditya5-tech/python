{
  "nbformat": 4,
  "nbformat_minor": 0,
  "metadata": {
    "colab": {
      "provenance": [],
      "authorship_tag": "ABX9TyOyo2IWto5hKW4BdXAlBRKT",
      "include_colab_link": true
    },
    "kernelspec": {
      "name": "python3",
      "display_name": "Python 3"
    },
    "language_info": {
      "name": "python"
    }
  },
  "cells": [
    {
      "cell_type": "markdown",
      "metadata": {
        "id": "view-in-github",
        "colab_type": "text"
      },
      "source": [
        "<a href=\"https://colab.research.google.com/github/Aditya5-tech/python/blob/main/Tuples%2CDictionaries.ipynb\" target=\"_parent\"><img src=\"https://colab.research.google.com/assets/colab-badge.svg\" alt=\"Open In Colab\"/></a>"
      ]
    },
    {
      "cell_type": "code",
      "execution_count": 1,
      "metadata": {
        "colab": {
          "base_uri": "https://localhost:8080/"
        },
        "id": "P_SFxWUf_DqP",
        "outputId": "6f00fd17-d3b0-4c34-fd33-9f64d0187802"
      },
      "outputs": [
        {
          "output_type": "stream",
          "name": "stdout",
          "text": [
            "(1, 2, 3, 4, 5)\n",
            "1\n",
            "5\n",
            "1 2 3 4 5\n",
            "{1, 2, 3, 4, 5}\n",
            "{1, 2, 3, 4, 5, 6}\n",
            "{1, 2, 4, 5, 6}\n",
            "{1, 2, 3, 4, 5}\n",
            "{3}\n",
            "{1, 2}\n",
            "{'name': 'Alice', 'age': 25, 'city': 'New York'}\n",
            "Alice\n",
            "25\n",
            "{'name': 'Alice', 'age': 26, 'city': 'New York', 'gender': 'Female'}\n",
            "{'name': 'Alice', 'age': 26, 'gender': 'Female'}\n",
            "dict_keys(['name', 'age', 'gender'])\n",
            "dict_values(['Alice', 26, 'Female'])\n",
            "dict_items([('name', 'Alice'), ('age', 26), ('gender', 'Female')])\n"
          ]
        }
      ],
      "source": [
        "\n",
        "# Tuples, Sets & Dictionaries ka code\n",
        "\n",
        "# 1. Tuple banana\n",
        "my_tuple = (1, 2, 3, 4, 5)  # Tuple ek immutable collection hai\n",
        "print(my_tuple)  # Output: (1, 2, 3, 4, 5)\n",
        "\n",
        "# Tuple elements ko access\n",
        "print(my_tuple[0])  # Pehla element\n",
        "print(my_tuple[-1])  # Aakhri element\n",
        "\n",
        "# Tuple unpacking\n",
        "a, b, c, d, e = my_tuple  # Multiple variables ko values assign\n",
        "print(a, b, c, d, e)  # Output: 1 2 3 4 5\n",
        "\n",
        "# 2. Set banana\n",
        "my_set = {1, 2, 3, 4, 5}  # Set ek unordered collection hai unique elements ka\n",
        "print(my_set)  # Output: {1, 2, 3, 4, 5}\n",
        "\n",
        "# Set mein elements add\n",
        "my_set.add(6)  # Ek element add\n",
        "print(my_set)  # Output: {1, 2, 3, 4, 5, 6}\n",
        "\n",
        "# Set se elements remove\n",
        "my_set.remove(3)  # Specific element remove\n",
        "print(my_set)  # Output: {1, 2, 4, 5, 6}\n",
        "\n",
        "# Set operations\n",
        "set1 = {1, 2, 3}\n",
        "set2 = {3, 4, 5}\n",
        "print(set1.union(set2))  # Dono sets ko combine : {1, 2, 3, 4, 5}\n",
        "print(set1.intersection(set2))  # Common elements: {3}\n",
        "print(set1.difference(set2))  # Elements jo set1 mein hain but set2 mein nahi: {1, 2}\n",
        "\n",
        "# 3. Dictionary banana\n",
        "my_dict = {\"name\": \"Alice\", \"age\": 25, \"city\": \"New York\"}  # Dictionary key-value pairs store karta hai\n",
        "print(my_dict)  # Output: {'name': 'Alice', 'age': 25, 'city': 'New York'}\n",
        "\n",
        "# Dictionary values ko access\n",
        "print(my_dict[\"name\"])  # Output: Alice\n",
        "print(my_dict.get(\"age\"))  # Output: 25\n",
        "\n",
        "# Values ko add aur update\n",
        "my_dict[\"age\"] = 26  # Age update\n",
        "my_dict[\"gender\"] = \"Female\"  # Naya key-value pair add\n",
        "print(my_dict)  # Output: {'name': 'Alice', 'age': 26, 'city': 'New York', 'gender': 'Female'}\n",
        "\n",
        "# Ek key-value pair remove\n",
        "del my_dict[\"city\"]\n",
        "print(my_dict)  # Output: {'name': 'Alice', 'age': 26, 'gender': 'Female'}\n",
        "\n",
        "# Dictionary methods\n",
        "print(my_dict.keys())  # Output: dict_keys(['name', 'age', 'gender'])\n",
        "print(my_dict.values())  # Output: dict_values(['Alice', 26, 'Female'])\n",
        "print(my_dict.items())  # Output: dict_items([('name', 'Alice'), ('age', 26), ('gender', 'Female')])"
      ]
    }
  ]
}