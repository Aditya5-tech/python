{
  "nbformat": 4,
  "nbformat_minor": 0,
  "metadata": {
    "colab": {
      "provenance": [],
      "authorship_tag": "ABX9TyOtR0ZPELysyqd0KvD4skuQ",
      "include_colab_link": true
    },
    "kernelspec": {
      "name": "python3",
      "display_name": "Python 3"
    },
    "language_info": {
      "name": "python"
    }
  },
  "cells": [
    {
      "cell_type": "markdown",
      "metadata": {
        "id": "view-in-github",
        "colab_type": "text"
      },
      "source": [
        "<a href=\"https://colab.research.google.com/github/Aditya5-tech/python/blob/main/conditional.ipynb\" target=\"_parent\"><img src=\"https://colab.research.google.com/assets/colab-badge.svg\" alt=\"Open In Colab\"/></a>"
      ]
    },
    {
      "cell_type": "code",
      "execution_count": 1,
      "metadata": {
        "colab": {
          "base_uri": "https://localhost:8080/"
        },
        "id": "vlMc_9W2eF9V",
        "outputId": "364a71eb-f049-40ff-e7ac-361aedda9051"
      },
      "outputs": [
        {
          "output_type": "stream",
          "name": "stdout",
          "text": [
            "x is greater than 5\n",
            "y is greater than 10 but less than or equal to 20\n",
            "z is greater than 20\n",
            "Both a and b are positive and b is greater than 5\n",
            "At least one of c or d is greater than 0 or d is greater than 5\n",
            "e is falsy\n",
            "f is: Even\n",
            "g is neither even nor divisible by 3\n",
            "h is between 5 and 15\n",
            "apple is in the list of fruits\n"
          ]
        }
      ],
      "source": [
        "# If-Else Statements\n",
        "\n",
        "# Basic If-Else Statement\n",
        "x = 10\n",
        "if x > 5:\n",
        "    print(\"x is greater than 5\")  # This will be printed since x is 10\n",
        "else:\n",
        "    print(\"x is less than or equal to 5\")\n",
        "\n",
        "# Elif (Else If) Statement\n",
        "y = 15\n",
        "if y > 20:\n",
        "    print(\"y is greater than 20\")\n",
        "elif y > 10:\n",
        "    print(\"y is greater than 10 but less than or equal to 20\")  # This will be printed because y is 15\n",
        "else:\n",
        "    print(\"y is 10 or less\")\n",
        "\n",
        "# Nested If-Else\n",
        "z = 30\n",
        "if z > 10:\n",
        "    if z > 20:\n",
        "        print(\"z is greater than 20\")  # This will be printed\n",
        "    else:\n",
        "        print(\"z is greater than 10 but less than or equal to 20\")\n",
        "else:\n",
        "    print(\"z is 10 or less\")\n",
        "\n",
        "# Logical Operators (and, or, not)\n",
        "\n",
        "# Using 'and' operator\n",
        "a = 5\n",
        "b = 10\n",
        "if a > 0 and b > 5:\n",
        "    print(\"Both a and b are positive and b is greater than 5\")  # This will be printed\n",
        "\n",
        "# Using 'or' operator\n",
        "c = -1\n",
        "d = 8\n",
        "if c > 0 or d > 5:\n",
        "    print(\"At least one of c or d is greater than 0 or d is greater than 5\")  # This will be printed\n",
        "\n",
        "# Using 'not' operator\n",
        "e = 0\n",
        "if not e:\n",
        "    print(\"e is falsy\")  # This will be printed because 0 is considered falsy in Python\n",
        "\n",
        "# Ternary Operator (One-line If-Else)\n",
        "f = 8\n",
        "result = \"Even\" if f % 2 == 0 else \"Odd\"\n",
        "print(\"f is:\", result)  # This will print \"Even\" because 8 is even\n",
        "\n",
        "# Checking Multiple Conditions\n",
        "g = 7\n",
        "if g % 2 == 0:\n",
        "    print(\"g is even\")\n",
        "elif g % 3 == 0:\n",
        "    print(\"g is divisible by 3\")  # This will be printed since 7 is divisible by 3\n",
        "else:\n",
        "    print(\"g is neither even nor divisible by 3\")\n",
        "\n",
        "# Chained Conditions (Multiple conditions with comparison operators)\n",
        "h = 12\n",
        "if 5 < h <= 15:\n",
        "    print(\"h is between 5 and 15\")  # This will be printed because h is 12\n",
        "\n",
        "# Using 'in' operator with condition\n",
        "fruit = \"apple\"\n",
        "if fruit in [\"apple\", \"banana\", \"cherry\"]:\n",
        "    print(f\"{fruit} is in the list of fruits\")  # This will be printed\n",
        "else:\n",
        "    print(f\"{fruit} is not in the list of fruits\")"
      ]
    }
  ]
}