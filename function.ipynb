{
  "nbformat": 4,
  "nbformat_minor": 0,
  "metadata": {
    "colab": {
      "provenance": [],
      "authorship_tag": "ABX9TyOTLc0G5ZytjBA9wjWHrR6K",
      "include_colab_link": true
    },
    "kernelspec": {
      "name": "python3",
      "display_name": "Python 3"
    },
    "language_info": {
      "name": "python"
    }
  },
  "cells": [
    {
      "cell_type": "markdown",
      "metadata": {
        "id": "view-in-github",
        "colab_type": "text"
      },
      "source": [
        "<a href=\"https://colab.research.google.com/github/Aditya5-tech/python/blob/main/function.ipynb\" target=\"_parent\"><img src=\"https://colab.research.google.com/assets/colab-badge.svg\" alt=\"Open In Colab\"/></a>"
      ]
    },
    {
      "cell_type": "code",
      "execution_count": 4,
      "metadata": {
        "colab": {
          "base_uri": "https://localhost:8080/",
          "height": 216
        },
        "id": "WB5bEWC3kvTt",
        "outputId": "3a78a29a-d3da-4e7a-9766-8c7d74cac24a"
      },
      "outputs": [
        {
          "output_type": "stream",
          "name": "stdout",
          "text": [
            "27\n"
          ]
        },
        {
          "output_type": "error",
          "ename": "TypeError",
          "evalue": "Person() takes no arguments",
          "traceback": [
            "\u001b[0;31m---------------------------------------------------------------------------\u001b[0m",
            "\u001b[0;31mTypeError\u001b[0m                                 Traceback (most recent call last)",
            "\u001b[0;32m<ipython-input-4-6a42b5184d5a>\u001b[0m in \u001b[0;36m<cell line: 0>\u001b[0;34m()\u001b[0m\n\u001b[1;32m     27\u001b[0m \u001b[0;34m\u001b[0m\u001b[0m\n\u001b[1;32m     28\u001b[0m \u001b[0;31m# Creating an object\u001b[0m\u001b[0;34m\u001b[0m\u001b[0;34m\u001b[0m\u001b[0m\n\u001b[0;32m---> 29\u001b[0;31m \u001b[0mp\u001b[0m \u001b[0;34m=\u001b[0m \u001b[0mPerson\u001b[0m\u001b[0;34m(\u001b[0m\u001b[0;34m\"Kaushik\"\u001b[0m\u001b[0;34m)\u001b[0m\u001b[0;34m\u001b[0m\u001b[0;34m\u001b[0m\u001b[0m\n\u001b[0m\u001b[1;32m     30\u001b[0m \u001b[0mprint\u001b[0m\u001b[0;34m(\u001b[0m\u001b[0mp\u001b[0m\u001b[0;34m.\u001b[0m\u001b[0mgreet\u001b[0m\u001b[0;34m(\u001b[0m\u001b[0;34m)\u001b[0m\u001b[0;34m)\u001b[0m  \u001b[0;31m# Output: Hello, my name is Kaushik.\u001b[0m\u001b[0;34m\u001b[0m\u001b[0;34m\u001b[0m\u001b[0m\n",
            "\u001b[0;31mTypeError\u001b[0m: Person() takes no arguments"
          ]
        }
      ],
      "source": [
        "# Function as an argument\n",
        "def apply_function(func, value):\n",
        "    \"\"\"\n",
        "    This function takes another function as an argument and applies it.\n",
        "    \"\"\"\n",
        "    return func(value)\n",
        "\n",
        "def cube(x):\n",
        "    return x ** 3\n",
        "\n",
        "print(apply_function(cube, 3))  # Output: 27 (3^3)\n",
        "\n",
        "\n",
        "# Method in a class\n",
        "class Person:\n",
        "    \"\"\"\n",
        "    This class represents a person with a name.\n",
        "    \"\"\"\n",
        "    def _init_(self, name):\n",
        "        self.name = name\n",
        "\n",
        "    def greet(self):\n",
        "        \"\"\"\n",
        "        Method to greet the person.\n",
        "        \"\"\"\n",
        "        return f\"Hello, my name is {self.name}.\"\n",
        "\n",
        "# Creating an object\n",
        "p = Person(\"Kaushik\")\n",
        "print(p.greet())  # Output: Hello, my name is Kaushik."
      ]
    }
  ]
}