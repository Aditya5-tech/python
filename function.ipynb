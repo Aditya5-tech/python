{
  "nbformat": 4,
  "nbformat_minor": 0,
  "metadata": {
    "colab": {
      "provenance": [],
      "authorship_tag": "ABX9TyOTLc0G5ZytjBA9wjWHrR6K",
      "include_colab_link": true
    },
    "kernelspec": {
      "name": "python3",
      "display_name": "Python 3"
    },
    "language_info": {
      "name": "python"
    }
  },
  "cells": [
    {
      "cell_type": "markdown",
      "metadata": {
        "id": "view-in-github",
        "colab_type": "text"
      },
      "source": [
        "<a href=\"https://colab.research.google.com/github/Aditya5-tech/python/blob/main/function.ipynb\" target=\"_parent\"><img src=\"https://colab.research.google.com/assets/colab-badge.svg\" alt=\"Open In Colab\"/></a>"
      ]
    },
    {
      "cell_type": "code",
      "execution_count": null,
      "metadata": {
        "id": "WB5bEWC3kvTt"
      },
      "outputs": [],
      "source": [
        "# Function as an argument\n",
        "def apply_function(func, value):\n",
        "    \"\"\"\n",
        "    This function takes another function as an argument and applies it.\n",
        "    \"\"\"\n",
        "    return func(value)\n",
        "\n",
        "def cube(x):\n",
        "    return x ** 3\n",
        "\n",
        "print(apply_function(cube, 3))  # Output: 27 (3^3)\n",
        "\n",
        "\n",
        "# Method in a class\n",
        "class Person:\n",
        "    \"\"\"\n",
        "    This class represents a person with a name.\n",
        "    \"\"\"\n",
        "    def _init_(self, name):\n",
        "        self.name = name\n",
        "\n",
        "    def greet(self):\n",
        "        \"\"\"\n",
        "        Method to greet the person.\n",
        "        \"\"\"\n",
        "        return f\"Hello, my name is {self.name}.\"\n",
        "\n",
        "# Creating an object\n",
        "p = Person(\"Kaushik\")\n",
        "print(p.greet())  # Output: Hello, my name is Kaushik."
      ]
    }
  ]
}