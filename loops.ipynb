{
  "nbformat": 4,
  "nbformat_minor": 0,
  "metadata": {
    "colab": {
      "provenance": [],
      "authorship_tag": "ABX9TyOFEJ4IF94jpK+vSKIMt+GI",
      "include_colab_link": true
    },
    "kernelspec": {
      "name": "python3",
      "display_name": "Python 3"
    },
    "language_info": {
      "name": "python"
    }
  },
  "cells": [
    {
      "cell_type": "markdown",
      "metadata": {
        "id": "view-in-github",
        "colab_type": "text"
      },
      "source": [
        "<a href=\"https://colab.research.google.com/github/Aditya5-tech/python/blob/main/loops.ipynb\" target=\"_parent\"><img src=\"https://colab.research.google.com/assets/colab-badge.svg\" alt=\"Open In Colab\"/></a>"
      ]
    },
    {
      "cell_type": "code",
      "execution_count": null,
      "metadata": {
        "id": "N-c6-FBto1i2"
      },
      "outputs": [],
      "source": [
        "# Understanding Loops in Python\n",
        "\n",
        "# A loop is a programming structure that repeats a set of instructions until a condition is met.\n",
        "# Loops are useful when you want to run the same block of code multiple times.\n",
        "\n",
        "# 1. FOR LOOP EXAMPLE\n",
        "print(\"For Loop Example:\")\n",
        "\n",
        "# The for loop runs a block of code a specified number of times.\n",
        "for i in range(5):  # 'range(5)' generates numbers from 0 to 4 (5 iterations)\n",
        "    print(\"Iteration number:\", i)  # Prints the current iteration number\n",
        "\n",
        "# 2. WHILE LOOP EXAMPLE\n",
        "print(\"\\nWhile Loop Example:\")\n",
        "\n",
        "# The while loop continues to run as long as a condition is true.\n",
        "count = 0  # Initialize a counter variable\n",
        "while count < 5:  # The loop will run while 'count' is less than 5\n",
        "    print(\"Count is:\", count)\n",
        "    count += 1  # Increments count by 1 each time the loop runs\n",
        "\n",
        "# 3. BREAK STATEMENT EXAMPLE\n",
        "print(\"\\nBreak Statement Example:\")\n",
        "\n",
        "# The break statement stops the loop even if the condition is still true.\n",
        "for num in range(10):  # Looping through numbers from 0 to 9\n",
        "    if num == 5:  # If num reaches 5, exit the loop\n",
        "        print(\"Breaking at\", num)\n",
        "        break  # Stops the loop\n",
        "    print(\"Number:\", num)\n",
        "\n",
        "# 4. CONTINUE STATEMENT EXAMPLE\n",
        "print(\"\\nContinue Statement Example:\")\n",
        "\n",
        "# The continue statement skips the rest of the code inside the loop for the current iteration.\n",
        "for num in range(5):  # Looping through numbers 0 to 4\n",
        "    if num == 2:  # If num is 2, skip the rest of the code in this iteration\n",
        "        print(\"Skipping\", num)\n",
        "        continue  # Goes to the next iteration\n",
        "    print(\"Number:\", num)\n",
        "\n",
        "# 5. NESTED LOOPS EXAMPLE\n",
        "print(\"\\nNested Loops Example:\")\n",
        "\n",
        "# A loop inside another loop is called a nested loop.\n",
        "for i in range(3):  # Outer loop (Runs 3 times)\n",
        "    for j in range(2):  # Inner loop (Runs 2 times for each outer loop iteration)\n",
        "        print(\"Outer loop iteration:\", i, \"- Inner loop iteration:\", j)\n",
        "\n",
        "# 6. LOOPING THROUGH A LIST\n",
        "print(\"\\nLooping Through a List Example:\")\n",
        "\n",
        "fruits = [\"apple\", \"banana\", \"cherry\"]  # A list of fruits\n",
        "for fruit in fruits:  # Loop through each item in the list\n",
        "    print(\"Fruit:\", fruit)  # Print the current fruit"
      ]
    }
  ]
}